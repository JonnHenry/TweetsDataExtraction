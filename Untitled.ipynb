{
 "cells": [
  {
   "cell_type": "code",
   "execution_count": 2,
   "metadata": {},
   "outputs": [],
   "source": [
    "import pandas as pd"
   ]
  },
  {
   "cell_type": "code",
   "execution_count": 4,
   "metadata": {},
   "outputs": [
    {
     "data": {
      "text/html": [
       "<div>\n",
       "<style scoped>\n",
       "    .dataframe tbody tr th:only-of-type {\n",
       "        vertical-align: middle;\n",
       "    }\n",
       "\n",
       "    .dataframe tbody tr th {\n",
       "        vertical-align: top;\n",
       "    }\n",
       "\n",
       "    .dataframe thead th {\n",
       "        text-align: right;\n",
       "    }\n",
       "</style>\n",
       "<table border=\"1\" class=\"dataframe\">\n",
       "  <thead>\n",
       "    <tr style=\"text-align: right;\">\n",
       "      <th></th>\n",
       "      <th>created_at</th>\n",
       "      <th>favorite_count</th>\n",
       "      <th>full_text</th>\n",
       "      <th>id_str</th>\n",
       "      <th>metadata.iso_language_code</th>\n",
       "      <th>retweeted_status.created_at</th>\n",
       "      <th>retweeted_status.full_text</th>\n",
       "      <th>user.created_at</th>\n",
       "      <th>user.favourites_count</th>\n",
       "      <th>user.followers_count</th>\n",
       "      <th>user.friends_count</th>\n",
       "      <th>user.id_str</th>\n",
       "      <th>user.location</th>\n",
       "      <th>user.verified</th>\n",
       "      <th>retweet_count</th>\n",
       "    </tr>\n",
       "  </thead>\n",
       "  <tbody>\n",
       "    <tr>\n",
       "      <th>0</th>\n",
       "      <td>2021-02-01 00:00:00</td>\n",
       "      <td>1</td>\n",
       "      <td>#Elecciones2021Ec | ¿Las propuestas económicas...</td>\n",
       "      <td>1356029498307784705</td>\n",
       "      <td>es</td>\n",
       "      <td>NaN</td>\n",
       "      <td>NaN</td>\n",
       "      <td>Mon Dec 05 13:59:33 +0000 2011</td>\n",
       "      <td>269</td>\n",
       "      <td>12756</td>\n",
       "      <td>288</td>\n",
       "      <td>429043466</td>\n",
       "      <td>Ecuador</td>\n",
       "      <td>False</td>\n",
       "      <td>0</td>\n",
       "    </tr>\n",
       "    <tr>\n",
       "      <th>1</th>\n",
       "      <td>2021-01-31 23:59:54</td>\n",
       "      <td>0</td>\n",
       "      <td>RT @carlosrojasecu: El candidato Andrés Arauz ...</td>\n",
       "      <td>1356029470554128384</td>\n",
       "      <td>es</td>\n",
       "      <td>Sun Jan 31 15:51:12 +0000 2021</td>\n",
       "      <td>El candidato Andrés Arauz @ecuarauz no aceptó ...</td>\n",
       "      <td>Thu Apr 22 06:20:32 +0000 2010</td>\n",
       "      <td>15211</td>\n",
       "      <td>1643</td>\n",
       "      <td>3233</td>\n",
       "      <td>135774682</td>\n",
       "      <td>Ombligo del mundo</td>\n",
       "      <td>False</td>\n",
       "      <td>154</td>\n",
       "    </tr>\n",
       "  </tbody>\n",
       "</table>\n",
       "</div>"
      ],
      "text/plain": [
       "            created_at  favorite_count  \\\n",
       "0  2021-02-01 00:00:00               1   \n",
       "1  2021-01-31 23:59:54               0   \n",
       "\n",
       "                                           full_text               id_str  \\\n",
       "0  #Elecciones2021Ec | ¿Las propuestas económicas...  1356029498307784705   \n",
       "1  RT @carlosrojasecu: El candidato Andrés Arauz ...  1356029470554128384   \n",
       "\n",
       "  metadata.iso_language_code     retweeted_status.created_at  \\\n",
       "0                         es                             NaN   \n",
       "1                         es  Sun Jan 31 15:51:12 +0000 2021   \n",
       "\n",
       "                          retweeted_status.full_text  \\\n",
       "0                                                NaN   \n",
       "1  El candidato Andrés Arauz @ecuarauz no aceptó ...   \n",
       "\n",
       "                  user.created_at  user.favourites_count  \\\n",
       "0  Mon Dec 05 13:59:33 +0000 2011                    269   \n",
       "1  Thu Apr 22 06:20:32 +0000 2010                  15211   \n",
       "\n",
       "   user.followers_count  user.friends_count  user.id_str      user.location  \\\n",
       "0                 12756                 288    429043466            Ecuador   \n",
       "1                  1643                3233    135774682  Ombligo del mundo   \n",
       "\n",
       "   user.verified  retweet_count  \n",
       "0          False              0  \n",
       "1          False            154  "
      ]
     },
     "execution_count": 4,
     "metadata": {},
     "output_type": "execute_result"
    }
   ],
   "source": [
    "df = pd.read_csv('all_tweets_arauz.csv')\n",
    "df.head(2)"
   ]
  },
  {
   "cell_type": "code",
   "execution_count": null,
   "metadata": {},
   "outputs": [],
   "source": []
  }
 ],
 "metadata": {
  "kernelspec": {
   "display_name": "Python 3",
   "language": "python",
   "name": "python3"
  },
  "language_info": {
   "codemirror_mode": {
    "name": "ipython",
    "version": 3
   },
   "file_extension": ".py",
   "mimetype": "text/x-python",
   "name": "python",
   "nbconvert_exporter": "python",
   "pygments_lexer": "ipython3",
   "version": "3.8.5"
  }
 },
 "nbformat": 4,
 "nbformat_minor": 4
}
